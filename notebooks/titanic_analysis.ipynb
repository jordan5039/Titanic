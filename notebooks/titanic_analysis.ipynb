{
 "cells": [
  {
   "cell_type": "code",
   "execution_count": 3,
   "id": "097fa95b",
   "metadata": {},
   "outputs": [],
   "source": [
    "import pandas as pd\n",
    "import numpy as np \n",
    "import matplotlib.pyplot as plt\n",
    "import seaborn as sns\n",
    "import xgboost as xgb\n",
    "from sklearn.model_selection import train_test_split"
   ]
  },
  {
   "cell_type": "markdown",
   "id": "694b4818",
   "metadata": {},
   "source": [
    "## Load the Dataset"
   ]
  },
  {
   "cell_type": "code",
   "execution_count": 4,
   "id": "238e8705",
   "metadata": {},
   "outputs": [
    {
     "data": {
      "text/html": [
       "<div>\n",
       "<style scoped>\n",
       "    .dataframe tbody tr th:only-of-type {\n",
       "        vertical-align: middle;\n",
       "    }\n",
       "\n",
       "    .dataframe tbody tr th {\n",
       "        vertical-align: top;\n",
       "    }\n",
       "\n",
       "    .dataframe thead th {\n",
       "        text-align: right;\n",
       "    }\n",
       "</style>\n",
       "<table border=\"1\" class=\"dataframe\">\n",
       "  <thead>\n",
       "    <tr style=\"text-align: right;\">\n",
       "      <th></th>\n",
       "      <th>Row Number</th>\n",
       "      <th>Passenger Class</th>\n",
       "      <th>Name</th>\n",
       "      <th>Gender</th>\n",
       "      <th>Age</th>\n",
       "      <th>No of Siblings</th>\n",
       "      <th>No of Parents</th>\n",
       "      <th>Ticket Number</th>\n",
       "      <th>Passenger Fare</th>\n",
       "      <th>Cabin</th>\n",
       "      <th>Port of Embarkation</th>\n",
       "      <th>Life Boat</th>\n",
       "      <th>Survived</th>\n",
       "    </tr>\n",
       "  </thead>\n",
       "  <tbody>\n",
       "    <tr>\n",
       "      <th>0</th>\n",
       "      <td>1</td>\n",
       "      <td>First</td>\n",
       "      <td>Allen, Miss. Elisabeth Walton</td>\n",
       "      <td>Female</td>\n",
       "      <td>29</td>\n",
       "      <td>0</td>\n",
       "      <td>0</td>\n",
       "      <td>24160</td>\n",
       "      <td>211.3375</td>\n",
       "      <td>B5</td>\n",
       "      <td>Southampton</td>\n",
       "      <td>2</td>\n",
       "      <td>Yes</td>\n",
       "    </tr>\n",
       "    <tr>\n",
       "      <th>1</th>\n",
       "      <td>2</td>\n",
       "      <td>First</td>\n",
       "      <td>Allison, Master. Hudson Trevor</td>\n",
       "      <td>Male</td>\n",
       "      <td>0.9167</td>\n",
       "      <td>1</td>\n",
       "      <td>2</td>\n",
       "      <td>113781</td>\n",
       "      <td>151.55</td>\n",
       "      <td>C22 C26</td>\n",
       "      <td>Southampton</td>\n",
       "      <td>11</td>\n",
       "      <td>Yes</td>\n",
       "    </tr>\n",
       "    <tr>\n",
       "      <th>2</th>\n",
       "      <td>3</td>\n",
       "      <td>First</td>\n",
       "      <td>Allison, Miss. Helen Loraine</td>\n",
       "      <td>Female</td>\n",
       "      <td>2</td>\n",
       "      <td>1</td>\n",
       "      <td>2</td>\n",
       "      <td>113781</td>\n",
       "      <td>151.55</td>\n",
       "      <td>C22 C26</td>\n",
       "      <td>Southampton</td>\n",
       "      <td>?</td>\n",
       "      <td>No</td>\n",
       "    </tr>\n",
       "    <tr>\n",
       "      <th>3</th>\n",
       "      <td>4</td>\n",
       "      <td>First</td>\n",
       "      <td>Allison, Mr. Hudson Joshua Creighton</td>\n",
       "      <td>Male</td>\n",
       "      <td>30</td>\n",
       "      <td>1</td>\n",
       "      <td>2</td>\n",
       "      <td>113781</td>\n",
       "      <td>151.55</td>\n",
       "      <td>C22 C26</td>\n",
       "      <td>Southampton</td>\n",
       "      <td>?</td>\n",
       "      <td>No</td>\n",
       "    </tr>\n",
       "    <tr>\n",
       "      <th>4</th>\n",
       "      <td>5</td>\n",
       "      <td>First</td>\n",
       "      <td>Allison, Mrs. Hudson J C (Bessie Waldo Daniels)</td>\n",
       "      <td>Female</td>\n",
       "      <td>25</td>\n",
       "      <td>1</td>\n",
       "      <td>2</td>\n",
       "      <td>113781</td>\n",
       "      <td>151.55</td>\n",
       "      <td>C22 C26</td>\n",
       "      <td>Southampton</td>\n",
       "      <td>?</td>\n",
       "      <td>No</td>\n",
       "    </tr>\n",
       "  </tbody>\n",
       "</table>\n",
       "</div>"
      ],
      "text/plain": [
       "   Row Number Passenger Class  \\\n",
       "0           1           First   \n",
       "1           2           First   \n",
       "2           3           First   \n",
       "3           4           First   \n",
       "4           5           First   \n",
       "\n",
       "                                              Name  Gender     Age  \\\n",
       "0                    Allen, Miss. Elisabeth Walton  Female      29   \n",
       "1                   Allison, Master. Hudson Trevor    Male  0.9167   \n",
       "2                     Allison, Miss. Helen Loraine  Female       2   \n",
       "3             Allison, Mr. Hudson Joshua Creighton    Male      30   \n",
       "4  Allison, Mrs. Hudson J C (Bessie Waldo Daniels)  Female      25   \n",
       "\n",
       "   No of Siblings  No of Parents Ticket Number Passenger Fare   Cabin   \\\n",
       "0               0              0         24160       211.3375       B5   \n",
       "1               1              2        113781         151.55  C22 C26   \n",
       "2               1              2        113781         151.55  C22 C26   \n",
       "3               1              2        113781         151.55  C22 C26   \n",
       "4               1              2        113781         151.55  C22 C26   \n",
       "\n",
       "  Port of Embarkation Life Boat Survived  \n",
       "0         Southampton         2      Yes  \n",
       "1         Southampton        11      Yes  \n",
       "2         Southampton         ?       No  \n",
       "3         Southampton         ?       No  \n",
       "4         Southampton         ?       No  "
      ]
     },
     "execution_count": 4,
     "metadata": {},
     "output_type": "execute_result"
    }
   ],
   "source": [
    "df = pd.read_csv(\"../data/Titanic.csv\")\n",
    "df.head()"
   ]
  },
  {
   "cell_type": "markdown",
   "id": "debd61fa",
   "metadata": {},
   "source": [
    "## Rename Features"
   ]
  },
  {
   "cell_type": "code",
   "execution_count": 5,
   "id": "566d57f5",
   "metadata": {},
   "outputs": [],
   "source": [
    "# Rename some of the features to make data cleaning and further analysis easier\n",
    "df.rename(columns={'Port of Embarkation': 'Port', 'Passenger Class': 'Class', 'Passenger Fare': 'Fare', 'Cabin ': 'Cabin'}, inplace=True)"
   ]
  },
  {
   "cell_type": "markdown",
   "id": "620da1b9",
   "metadata": {},
   "source": [
    "## Simple Data Inspection"
   ]
  },
  {
   "cell_type": "code",
   "execution_count": 6,
   "id": "71f01fe6",
   "metadata": {},
   "outputs": [
    {
     "data": {
      "text/plain": [
       "(1309, 13)"
      ]
     },
     "execution_count": 6,
     "metadata": {},
     "output_type": "execute_result"
    }
   ],
   "source": [
    "df.shape"
   ]
  },
  {
   "cell_type": "code",
   "execution_count": 7,
   "id": "8c492616",
   "metadata": {},
   "outputs": [
    {
     "name": "stdout",
     "output_type": "stream",
     "text": [
      "<class 'pandas.core.frame.DataFrame'>\n",
      "RangeIndex: 1309 entries, 0 to 1308\n",
      "Data columns (total 13 columns):\n",
      " #   Column          Non-Null Count  Dtype \n",
      "---  ------          --------------  ----- \n",
      " 0   Row Number      1309 non-null   int64 \n",
      " 1   Class           1309 non-null   object\n",
      " 2   Name            1309 non-null   object\n",
      " 3   Gender          1309 non-null   object\n",
      " 4   Age             1309 non-null   object\n",
      " 5   No of Siblings  1309 non-null   int64 \n",
      " 6   No of Parents   1309 non-null   int64 \n",
      " 7   Ticket Number   1309 non-null   object\n",
      " 8   Fare            1309 non-null   object\n",
      " 9   Cabin           1309 non-null   object\n",
      " 10  Port            1309 non-null   object\n",
      " 11  Life Boat       1309 non-null   object\n",
      " 12  Survived        1309 non-null   object\n",
      "dtypes: int64(3), object(10)\n",
      "memory usage: 133.1+ KB\n"
     ]
    }
   ],
   "source": [
    "df.info()"
   ]
  },
  {
   "cell_type": "code",
   "execution_count": 8,
   "id": "d0626b04",
   "metadata": {},
   "outputs": [
    {
     "data": {
      "text/html": [
       "<div>\n",
       "<style scoped>\n",
       "    .dataframe tbody tr th:only-of-type {\n",
       "        vertical-align: middle;\n",
       "    }\n",
       "\n",
       "    .dataframe tbody tr th {\n",
       "        vertical-align: top;\n",
       "    }\n",
       "\n",
       "    .dataframe thead th {\n",
       "        text-align: right;\n",
       "    }\n",
       "</style>\n",
       "<table border=\"1\" class=\"dataframe\">\n",
       "  <thead>\n",
       "    <tr style=\"text-align: right;\">\n",
       "      <th></th>\n",
       "      <th>Row Number</th>\n",
       "      <th>Class</th>\n",
       "      <th>Name</th>\n",
       "      <th>Gender</th>\n",
       "      <th>Age</th>\n",
       "      <th>No of Siblings</th>\n",
       "      <th>No of Parents</th>\n",
       "      <th>Ticket Number</th>\n",
       "      <th>Fare</th>\n",
       "      <th>Cabin</th>\n",
       "      <th>Port</th>\n",
       "      <th>Life Boat</th>\n",
       "      <th>Survived</th>\n",
       "    </tr>\n",
       "  </thead>\n",
       "  <tbody>\n",
       "    <tr>\n",
       "      <th>count</th>\n",
       "      <td>1309.000000</td>\n",
       "      <td>1309</td>\n",
       "      <td>1309</td>\n",
       "      <td>1309</td>\n",
       "      <td>1309</td>\n",
       "      <td>1309.000000</td>\n",
       "      <td>1309.000000</td>\n",
       "      <td>1309</td>\n",
       "      <td>1309</td>\n",
       "      <td>1309</td>\n",
       "      <td>1309</td>\n",
       "      <td>1309</td>\n",
       "      <td>1309</td>\n",
       "    </tr>\n",
       "    <tr>\n",
       "      <th>unique</th>\n",
       "      <td>NaN</td>\n",
       "      <td>3</td>\n",
       "      <td>1307</td>\n",
       "      <td>2</td>\n",
       "      <td>99</td>\n",
       "      <td>NaN</td>\n",
       "      <td>NaN</td>\n",
       "      <td>929</td>\n",
       "      <td>282</td>\n",
       "      <td>187</td>\n",
       "      <td>4</td>\n",
       "      <td>28</td>\n",
       "      <td>2</td>\n",
       "    </tr>\n",
       "    <tr>\n",
       "      <th>top</th>\n",
       "      <td>NaN</td>\n",
       "      <td>Third</td>\n",
       "      <td>Connolly, Miss. Kate</td>\n",
       "      <td>Male</td>\n",
       "      <td>?</td>\n",
       "      <td>NaN</td>\n",
       "      <td>NaN</td>\n",
       "      <td>CA. 2343</td>\n",
       "      <td>8.05</td>\n",
       "      <td>?</td>\n",
       "      <td>Southampton</td>\n",
       "      <td>?</td>\n",
       "      <td>No</td>\n",
       "    </tr>\n",
       "    <tr>\n",
       "      <th>freq</th>\n",
       "      <td>NaN</td>\n",
       "      <td>709</td>\n",
       "      <td>2</td>\n",
       "      <td>843</td>\n",
       "      <td>263</td>\n",
       "      <td>NaN</td>\n",
       "      <td>NaN</td>\n",
       "      <td>11</td>\n",
       "      <td>60</td>\n",
       "      <td>1014</td>\n",
       "      <td>914</td>\n",
       "      <td>823</td>\n",
       "      <td>809</td>\n",
       "    </tr>\n",
       "    <tr>\n",
       "      <th>mean</th>\n",
       "      <td>655.000000</td>\n",
       "      <td>NaN</td>\n",
       "      <td>NaN</td>\n",
       "      <td>NaN</td>\n",
       "      <td>NaN</td>\n",
       "      <td>0.498854</td>\n",
       "      <td>0.385027</td>\n",
       "      <td>NaN</td>\n",
       "      <td>NaN</td>\n",
       "      <td>NaN</td>\n",
       "      <td>NaN</td>\n",
       "      <td>NaN</td>\n",
       "      <td>NaN</td>\n",
       "    </tr>\n",
       "    <tr>\n",
       "      <th>std</th>\n",
       "      <td>378.020061</td>\n",
       "      <td>NaN</td>\n",
       "      <td>NaN</td>\n",
       "      <td>NaN</td>\n",
       "      <td>NaN</td>\n",
       "      <td>1.041658</td>\n",
       "      <td>0.865560</td>\n",
       "      <td>NaN</td>\n",
       "      <td>NaN</td>\n",
       "      <td>NaN</td>\n",
       "      <td>NaN</td>\n",
       "      <td>NaN</td>\n",
       "      <td>NaN</td>\n",
       "    </tr>\n",
       "    <tr>\n",
       "      <th>min</th>\n",
       "      <td>1.000000</td>\n",
       "      <td>NaN</td>\n",
       "      <td>NaN</td>\n",
       "      <td>NaN</td>\n",
       "      <td>NaN</td>\n",
       "      <td>0.000000</td>\n",
       "      <td>0.000000</td>\n",
       "      <td>NaN</td>\n",
       "      <td>NaN</td>\n",
       "      <td>NaN</td>\n",
       "      <td>NaN</td>\n",
       "      <td>NaN</td>\n",
       "      <td>NaN</td>\n",
       "    </tr>\n",
       "    <tr>\n",
       "      <th>25%</th>\n",
       "      <td>328.000000</td>\n",
       "      <td>NaN</td>\n",
       "      <td>NaN</td>\n",
       "      <td>NaN</td>\n",
       "      <td>NaN</td>\n",
       "      <td>0.000000</td>\n",
       "      <td>0.000000</td>\n",
       "      <td>NaN</td>\n",
       "      <td>NaN</td>\n",
       "      <td>NaN</td>\n",
       "      <td>NaN</td>\n",
       "      <td>NaN</td>\n",
       "      <td>NaN</td>\n",
       "    </tr>\n",
       "    <tr>\n",
       "      <th>50%</th>\n",
       "      <td>655.000000</td>\n",
       "      <td>NaN</td>\n",
       "      <td>NaN</td>\n",
       "      <td>NaN</td>\n",
       "      <td>NaN</td>\n",
       "      <td>0.000000</td>\n",
       "      <td>0.000000</td>\n",
       "      <td>NaN</td>\n",
       "      <td>NaN</td>\n",
       "      <td>NaN</td>\n",
       "      <td>NaN</td>\n",
       "      <td>NaN</td>\n",
       "      <td>NaN</td>\n",
       "    </tr>\n",
       "    <tr>\n",
       "      <th>75%</th>\n",
       "      <td>982.000000</td>\n",
       "      <td>NaN</td>\n",
       "      <td>NaN</td>\n",
       "      <td>NaN</td>\n",
       "      <td>NaN</td>\n",
       "      <td>1.000000</td>\n",
       "      <td>0.000000</td>\n",
       "      <td>NaN</td>\n",
       "      <td>NaN</td>\n",
       "      <td>NaN</td>\n",
       "      <td>NaN</td>\n",
       "      <td>NaN</td>\n",
       "      <td>NaN</td>\n",
       "    </tr>\n",
       "    <tr>\n",
       "      <th>max</th>\n",
       "      <td>1309.000000</td>\n",
       "      <td>NaN</td>\n",
       "      <td>NaN</td>\n",
       "      <td>NaN</td>\n",
       "      <td>NaN</td>\n",
       "      <td>8.000000</td>\n",
       "      <td>9.000000</td>\n",
       "      <td>NaN</td>\n",
       "      <td>NaN</td>\n",
       "      <td>NaN</td>\n",
       "      <td>NaN</td>\n",
       "      <td>NaN</td>\n",
       "      <td>NaN</td>\n",
       "    </tr>\n",
       "  </tbody>\n",
       "</table>\n",
       "</div>"
      ],
      "text/plain": [
       "         Row Number  Class                  Name Gender   Age  No of Siblings  \\\n",
       "count   1309.000000   1309                  1309   1309  1309     1309.000000   \n",
       "unique          NaN      3                  1307      2    99             NaN   \n",
       "top             NaN  Third  Connolly, Miss. Kate   Male     ?             NaN   \n",
       "freq            NaN    709                     2    843   263             NaN   \n",
       "mean     655.000000    NaN                   NaN    NaN   NaN        0.498854   \n",
       "std      378.020061    NaN                   NaN    NaN   NaN        1.041658   \n",
       "min        1.000000    NaN                   NaN    NaN   NaN        0.000000   \n",
       "25%      328.000000    NaN                   NaN    NaN   NaN        0.000000   \n",
       "50%      655.000000    NaN                   NaN    NaN   NaN        0.000000   \n",
       "75%      982.000000    NaN                   NaN    NaN   NaN        1.000000   \n",
       "max     1309.000000    NaN                   NaN    NaN   NaN        8.000000   \n",
       "\n",
       "        No of Parents Ticket Number  Fare Cabin         Port Life Boat  \\\n",
       "count     1309.000000          1309  1309  1309         1309      1309   \n",
       "unique            NaN           929   282   187            4        28   \n",
       "top               NaN      CA. 2343  8.05     ?  Southampton         ?   \n",
       "freq              NaN            11    60  1014          914       823   \n",
       "mean         0.385027           NaN   NaN   NaN          NaN       NaN   \n",
       "std          0.865560           NaN   NaN   NaN          NaN       NaN   \n",
       "min          0.000000           NaN   NaN   NaN          NaN       NaN   \n",
       "25%          0.000000           NaN   NaN   NaN          NaN       NaN   \n",
       "50%          0.000000           NaN   NaN   NaN          NaN       NaN   \n",
       "75%          0.000000           NaN   NaN   NaN          NaN       NaN   \n",
       "max          9.000000           NaN   NaN   NaN          NaN       NaN   \n",
       "\n",
       "       Survived  \n",
       "count      1309  \n",
       "unique        2  \n",
       "top          No  \n",
       "freq        809  \n",
       "mean        NaN  \n",
       "std         NaN  \n",
       "min         NaN  \n",
       "25%         NaN  \n",
       "50%         NaN  \n",
       "75%         NaN  \n",
       "max         NaN  "
      ]
     },
     "execution_count": 8,
     "metadata": {},
     "output_type": "execute_result"
    }
   ],
   "source": [
    "df.describe(include='all')"
   ]
  },
  {
   "cell_type": "markdown",
   "id": "be20aa3c",
   "metadata": {},
   "source": [
    "Note the issues with the data :\n",
    "\n",
    "- Age and Fare are of type object - should be numeric.\n",
    "- Age, Cabin, Life Boat all show the most frequently occurring value to be '?' - Inspect the other features to determine if '?' is used in place of NaN and replace all."
   ]
  },
  {
   "cell_type": "markdown",
   "id": "aabee960",
   "metadata": {},
   "source": [
    "## Convert Age to Numeric"
   ]
  },
  {
   "cell_type": "code",
   "execution_count": 9,
   "id": "0746296d",
   "metadata": {},
   "outputs": [],
   "source": [
    "df['Age'] = pd.to_numeric(df['Age'], errors='coerce')\n",
    "df['Age'] = df['Age'].round(0)"
   ]
  },
  {
   "cell_type": "markdown",
   "id": "8f78b41b",
   "metadata": {},
   "source": [
    "## Convert Fare to Numeric"
   ]
  },
  {
   "cell_type": "code",
   "execution_count": 10,
   "id": "8b1f8bc8",
   "metadata": {},
   "outputs": [
    {
     "data": {
      "text/plain": [
       "Row Number          int64\n",
       "Class              object\n",
       "Name               object\n",
       "Gender             object\n",
       "Age               float64\n",
       "No of Siblings      int64\n",
       "No of Parents       int64\n",
       "Ticket Number      object\n",
       "Fare              float64\n",
       "Cabin              object\n",
       "Port               object\n",
       "Life Boat          object\n",
       "Survived           object\n",
       "dtype: object"
      ]
     },
     "execution_count": 10,
     "metadata": {},
     "output_type": "execute_result"
    }
   ],
   "source": [
    "df['Fare'] = pd.to_numeric(df['Fare'], errors='coerce')\n",
    "df.dtypes"
   ]
  },
  {
   "cell_type": "markdown",
   "id": "a0996d64",
   "metadata": {},
   "source": [
    "## Loop through the categorical features and inspect the possible values"
   ]
  },
  {
   "cell_type": "code",
   "execution_count": 11,
   "id": "e5c8a71b",
   "metadata": {},
   "outputs": [],
   "source": [
    "cat_feats = ['Class', 'Name', 'Gender', 'Ticket Number',\n",
    "       'Cabin', 'Port', 'Life Boat', 'Survived']"
   ]
  },
  {
   "cell_type": "code",
   "execution_count": 12,
   "id": "abf30aa7",
   "metadata": {},
   "outputs": [
    {
     "name": "stdout",
     "output_type": "stream",
     "text": [
      "********* Feature: Class *********\n",
      "\n",
      "['First' 'Second' 'Third']\n",
      "\n",
      "********* Feature: Name *********\n",
      "\n",
      "['Allen, Miss. Elisabeth Walton' 'Allison, Master. Hudson Trevor'\n",
      " 'Allison, Miss. Helen Loraine' ... 'Zakarian, Mr. Mapriededer'\n",
      " 'Zakarian, Mr. Ortin' 'Zimmerman, Mr. Leo']\n",
      "\n",
      "********* Feature: Gender *********\n",
      "\n",
      "['Female' 'Male']\n",
      "\n",
      "********* Feature: Ticket Number *********\n",
      "\n",
      "['24160' '113781' '19952' '13502' '112050' '11769' 'PC 17609' 'PC 17757'\n",
      " 'PC 17477' '19877' '27042' 'PC 17318' 'PC 17558' '11813' '13050' '11751'\n",
      " '111369' 'PC 17483' '13905' '11967' 'PC 17760' '110564' '113784' '112277'\n",
      " '36928' '113783' '110489' 'PC 17608' '113505' '111427' '113054'\n",
      " 'PC 17591' '112379' 'PC 17610' '16966' '113050' '113798' 'PC 17476'\n",
      " 'PC 17606' 'PC 17755' '695' '113059' '113760' '19924' '17770'\n",
      " 'W.E.P. 5734' '113806' '110152' 'PC 17594' '112051' '13508' '110465'\n",
      " '5727' 'PC 17756' '11770' '113791' 'WE/P 5735' '112901' 'PC 17599'\n",
      " '113055' '113804' 'F.C. 12750' '17474' '33638' 'PC 17761' '11755'\n",
      " 'PC 17485' 'PC 17580' '11767' '36947' 'PC 17531' 'PC 17598' '17421'\n",
      " 'PC 17474' '113051' '19950' '113778' 'PC 17611' '17765' '13568' '13567'\n",
      " '112058' '113803' '111320' '113503' '112378' 'PC 17593' '17453'\n",
      " 'PC 17754' '113780' '112053' 'PC 17582' 'PC 17759' '11765' 'PC 17572'\n",
      " '113796' '36973' '112059' '16988' '12749' '113038' '17463' '680' '111361'\n",
      " '113789' '111426' '19943' 'PC 17600' '113572' 'PC 17595' '694' '113044'\n",
      " '11771' '17464' '11753' '113028' '17465' 'PC 17612' '17475' '112377'\n",
      " 'PC 17592' '113501' '113801' 'PC 17569' '110469' '11774' '113773'\n",
      " 'PC 17482' 'PC 17473' 'PC 17604' '13509' '19928' '13236' '113787'\n",
      " 'PC 17596' '35273' '11752' '693' 'PC 17758' 'F.C. 12998' '113509'\n",
      " 'PC 17562' '112052' '113043' '113776' '113786' '19972' 'PC 17607'\n",
      " 'PC 17590' '111428' '113767' 'PC 17613' 'PC 17585' '13049' 'PC 17603'\n",
      " '113790' '19988' '111163' '113794' 'PC 17475' '13507' '13213' '113788'\n",
      " '113792' '17764' '13695' '113056' '21228' '13214' '113514' '11778'\n",
      " 'PC 17605' '36963' '17466' '110413' '19996' '2543' 'PC 17601' '111240'\n",
      " '36967' '110813' '113800' '35281' '113795' 'PC 17597' '113510' '19947'\n",
      " '113807' 'P/PP 3381' '248744' '231945' 'C.A. 34050' '226875' '244346'\n",
      " '29108' 'C.A. 31030' '28551' 'C.A./SOTON 34068' 'S.O.P. 1166' '2908'\n",
      " '244358' '230136' '248698' '28404' '28425' '237670' '211535' '220367'\n",
      " '248733' '29750' '236853' '27849' '234686' '244310' '236852' '248738'\n",
      " 'F.C.C. 13528' '239853' '28424' '244252' '248731' 'SC/AH 29037' '237789'\n",
      " '2003' 'W./C. 14263' '248740' '28034' 'C.A. 31921' 'W./C. 14266' '237249'\n",
      " 'F.C.C. 13534' '29107' 'C.A. 33112' 'S.O.C. 14879' '237668' '244360'\n",
      " 'SC/PARIS 2167' 'C.A. 31029' '231919' '28403' '28220' 'SC/PARIS 2149'\n",
      " 'SC/PARIS 2148' '29751' '236854' '236171' '2926' 'C.A. 15185' '229236'\n",
      " '239854' '237671' '239865' '28664' '243880' '31028' 'C.A. 30769' '28133'\n",
      " '28134' '248726' '233866' '12233' '250646' '250647' '250653' '250649'\n",
      " '248746' '248727' 'S.W./PP 752' 'W/C 14208' 'F.C.C. 13529' '220845'\n",
      " '248706' '250650' '29105' '29104' '242963' '250643' '26707' '237798'\n",
      " '24065' 'SCO/W 1585' 'SO/C 14885' '243847' '237565' 'C.A. 33111'\n",
      " 'SC/AH Basle 541' '244367' '226593' '233734' '223596' '219533' '239855'\n",
      " 'C.A. 18723' '250651' '240261' 'SC/Paris 2123' 'SC 1748' 'C.A. 34260'\n",
      " 'SC/Paris 2163' 'C.A. 29566' '235509' 'SC/AH 3085' 'S.O./P.P. 3' '237735'\n",
      " 'S.C./PARIS 2079' 'SC/A.3 2861' '28228' '239059' '237216' '233478'\n",
      " '250644' 'SW/PP 751' '248723' '234360' 'C.A. 24580' '211536' '29011'\n",
      " '250655' '240276' '237736' '230080' '244368' '218629' 'SC/PARIS 2166'\n",
      " 'C.A. 29395' '28213' 'W./C. 14260' 'SC/PARIS 2146' '244278'\n",
      " 'SC/PARIS 2147' 'SC 14888' '230433' '28665' 'SC/PARIS 2131' '237393'\n",
      " 'S.O./P.P. 2' '234604' 'C.A. 34644' 'SC/PARIS 2168' '26360' 'C.A. 17248'\n",
      " '31027' '230434' 'SC/PARIS 2133' '29106' 'W./C. 14258' '28004'\n",
      " 'C.A. 31026' '248659' '244361' '250652' '250648' '237442' '234818'\n",
      " '28206' '31418' 'C.A. 29178' '237734' 'F.C.C. 13540' '248734'\n",
      " 'F.C.C. 13531' '233639' '240929' '34218' '11668' '28221' 'CA 31352'\n",
      " '28666' '239856' 'C.A. 33595' '27267' '228414' '29103' 'C.A. 34651'\n",
      " 'C.A. 24579' 'SC/PARIS 2159' '244270' '244373' '220844' '248747'\n",
      " 'C.A. 5547' 'C.A. 2673' '348125' '348122' 'SOTON/O2 3101284' '2657'\n",
      " 'C 7076' '341826' '7546' '392091' '2699' '3474' 'SOTON/O2 3101287'\n",
      " 'SOTON/O.Q. 3101311' 'SOTON/O.Q. 3101312' '373450' '2223' 'C 4001'\n",
      " '350046' '347082' '3101281' '347091' '350043' '347075' '347466' '349202'\n",
      " '349237' '349911' 'SOTON/O.Q. 3101310' '347077' '350054' '2696' '2692'\n",
      " 'SOTON/O.Q. 3101309' '2627' '2694' '347468' '2687' '2679' '3101278'\n",
      " '2666' 'A/4 31416' '2623' '349248' '2663' '2691' '330844' '324669'\n",
      " '323951' '347068' 'PP 4348' '2622' '2648' '1601' '312992' '347090'\n",
      " '349224' '2678' '2664' '364848' '364849' '54636' '334914' '347471' '3460'\n",
      " 'A/5 21171' '350045' '364512' '329944' '330920' '365222' '330963'\n",
      " '315087' '315084' '315091' '315089' '315093' '315086' '364846' '364858'\n",
      " 'A./5. 2152' '2689' '350042' '350409' '367231' '368364' '392095' '343275'\n",
      " 'A/5. 13032' '343276' '2680' 'SOTON/O.Q. 3101307' 'A/5 3540' '371109'\n",
      " '349210' '349209' '21332' '335097' '370373' '330972' '370369' 'A/5 3536'\n",
      " '349230' '349229' '349231' 'SOTON/OQ 392090' 'C.A. 37671' '364500'\n",
      " 'S.P. 3464' '371362' '315090' '2698' '7598' '7552' '349228' '382650'\n",
      " '382651' '347080' '349219' '349203' 'A/4 48871' 'SC/A4 23568' 'A/4 48873'\n",
      " '386525' '345572' '345774' '345778' 'C.A. 2315' '349250' '349238'\n",
      " '349225' 'A/5 21172' 'A/5 21175' '330958' '349232' '315088' '349226'\n",
      " '2686' '370376' 'A/5. 10482' '364516' '368702' 'SOTON/OQ 392083' '349241'\n",
      " '336439' 'S.O./P.P. 752' '347072' '349912' '347074' '347061' '2674'\n",
      " '2675' '2690' '2695' 'A/5 3902' '2631' 'C.A. 6212' '367232'\n",
      " 'SOTON/O.Q. 3101308' '350036' '364859' '364851' '368323' '330910'\n",
      " '365235' 'W./C. 6608' 'A/5 1478' '368573' 'SOTON/O.Q. 3101314' '36864'\n",
      " '358585' '349254' '14973' '35851' '335677' '363291' 'SOTON/O.Q. 3101263'\n",
      " 'SOTON/O.Q. 3101306' 'CA 2144' '21440' '8471' '376563' '7534' '3101276'\n",
      " '3101277' '347069' '349236' 'AQ/3. 30631' '65303' '65304'\n",
      " 'STON/O2. 3101279' '345769' '2693' '350026' '350025' '350029'\n",
      " 'W./C. 6609' '374887' '394140' '370375' '347089' '365226'\n",
      " 'STON/O2. 3101282' 'STON/O2. 3101290' '7548' '349243' '347086' '382649'\n",
      " '3101298' 'C 7075' 'STON/O2. 3101283' '370377' 'A. 2. 39186' '348121'\n",
      " '3470' '2685' '349220' 'STON/O2. 3101270' 'STON/O2. 3101271' '349201'\n",
      " '349240' '350034' 'SOTON/O.Q. 3101305' '350050' '350047' '350048' '14313'\n",
      " '65306' '3101264' '347070' '350052' '7540' '347063' '347467' '347742'\n",
      " 'LINE' '347062' 'W./C. 6607' '349204' '350417' '350408' '4136' '4137'\n",
      " 'STON/O 2. 3101286' 'STON/O 2. 3101274' '8475' '349246' '350053' '347465'\n",
      " '350060' '349256' '2700' '2682' '12460' '323592' '9234' '14312' '330911'\n",
      " '363592' '368783' '2660' '367227' '367229' '36865' '315152' '315151'\n",
      " '315153' '350405' '350404' '349253' '2654' '2624' '4135' '349217'\n",
      " 'C 7077' '7935' '7545' '347067' '347065' '2620' '4133'\n",
      " 'STON/O 2. 3101292' '2683' '370371' '345781' '347071' '347073' '349910'\n",
      " 'STON/O 2. 3101285' '330971' 'S.O./P.P. 251' 'A/5. 3336' '1222'\n",
      " 'A/5 21173' '315098' '347743' '347469' '350403' '349235' 'C.A. 42795'\n",
      " '370370' 'C 17369' 'STON/O 2. 3101275' '330924' 'AQ/4 3130' 'A/S 2816'\n",
      " 'STON/O 2. 3101268' '2677' '364850' '36866' '2655' '349213' '349257'\n",
      " '2649' '349255' '383123' '367228' '367226' '330932' '36568' '330931'\n",
      " '330923' '9232' '370372' '376566' '370368' 'SOTON/O.Q. 392087' '343095'\n",
      " 'A.5. 11206' '368703' '345501' '359306' '349233' '349211' '349207'\n",
      " '349221' '330980' '348123' '392096' 'A4. 54510' '371110' '330877'\n",
      " '364506' '372622' '312991' '2661' '2626' '374746' '35852' '382653'\n",
      " 'A./5. 3235' '367230' '347078' '349206' '2667' '2653' 'A./5. 3338'\n",
      " '349218' '2652' '365237' '349234' '2651' '3101297' '363611' '347066'\n",
      " '347470' '350410' 'SOTON/O2 3101272' 'STON/O 2. 3101289' 'A/4. 39886'\n",
      " '2697' '347081' '345364' '370365' '330979' '334912' '371060' '366713'\n",
      " '7267' '364856' '14311' '330959' '347085' '368402' '330919' 'C 17368'\n",
      " '4579' 'Fa 265302' '350407' '347464' '347079' '6563' '315085' '315096'\n",
      " '315094' '349244' '330909' '349909' '3101295' '315097' '3411' '349242'\n",
      " 'SOTON/O.Q. 3101315' '343271' '345498' 'A/5 2817' 'STON/O 2. 3101294'\n",
      " 'STON/O 2. 3101291' 'A/5 21174' '347083' '2668' '330935' '342441'\n",
      " '349245' '349212' '349215' '347076' '347087' 'SOTON/O.Q. 392078' '349227'\n",
      " '315095' '315092' '349223' '65305' '2629' '362316' '349249' '342684'\n",
      " '382652' 'STON/O 2. 3101273' '334915' '364498' 'A/5. 3337'\n",
      " 'S.C./A.4. 23567' '312993' '370129' '342712' 'A/5 3594' 'A/4. 20589'\n",
      " '383162' '2671' '2672' '2676' '367655' 'LP 1588' 'SOTON/O.Q. 3101262'\n",
      " 'CA. 2343' '7266' '343120' '3101296' '2662' 'PP 9549' '345768'\n",
      " 'A/5. 2151' '342826' '36209' '349222' '370374' '345779' '330968' '374910'\n",
      " 'SOTON/OQ 392082' '2669' '392092' '349251' 'STON/O 2. 3101280' '3101265'\n",
      " '347088' '349214' 'SOTON/OQ 392086' '315037' '384461' '335432' '348124'\n",
      " 'A.5. 18509' 'A.5. 3236' 'STON/OQ. 369943' '349208' '349239' 'CA. 2314'\n",
      " 'A/4 45380' '3701' '349205' '7553' 'STON/O 2. 3101288' '315083' '347054'\n",
      " 'SOTON/OQ 392089' 'STON/O 2. 3101269' 'SOTON/OQ 392076' '347060' '7538'\n",
      " '350035' '350033' '363294' '2625' '2621' '2681' '2684' '32302' '376564'\n",
      " 'STON/O 2. 3101293' '383121' '349216' '364499' '364511' '2673' '2641'\n",
      " '2650' '349247' '4138' '4134' 'A/5. 851' '345773' '345777' '345780'\n",
      " '345770' '345783' '345765' '345764' '345763' '2658' '350416' '350406'\n",
      " '349252' '345767' '359309' 'C.A. 49867' 'SOTON/OQ 3101316' '345775'\n",
      " '2688' '347064' '3101267' '3101266' '363272' '3410' 'S.O./P.P. 751'\n",
      " 'A/5 2466' 'SOTON/OQ 3101317' '315154' 'A/4. 34244' '345771' '2659'\n",
      " '2628' '2647' '2665' '2656' '2670' '315082']\n",
      "\n",
      "********* Feature: Cabin *********\n",
      "\n",
      "['B5' 'C22 C26' 'E12' 'D7' 'A36' 'C101' '?' 'C62 C64' 'B35' 'A23'\n",
      " 'B58 B60' 'D15' 'C6' 'D35' 'C148' 'C97' 'B49' 'C99' 'C52' 'T' 'A31' 'C7'\n",
      " 'C103' 'D22' 'E33' 'A21' 'B10' 'B4' 'E40' 'B38' 'E24' 'B51 B53 B55'\n",
      " 'B96 B98' 'C46' 'E31' 'E8' 'B61' 'B77' 'A9' 'C89' 'A14' 'E58' 'E49' 'E52'\n",
      " 'E45' 'B22' 'B26' 'C85' 'E17' 'B71' 'B20' 'A34' 'C86' 'A16' 'A20' 'A18'\n",
      " 'C54' 'C45' 'D20' 'A29' 'C95' 'E25' 'C111' 'C23 C25 C27' 'E36' 'D34'\n",
      " 'D40' 'B39' 'B41' 'B102' 'C123' 'E63' 'C130' 'B86' 'C92' 'A5' 'C51' 'B42'\n",
      " 'C91' 'C125' 'D10 D12' 'B82 B84' 'E50' 'D33' 'C83' 'B94' 'D49' 'D45'\n",
      " 'B69' 'B11' 'E46' 'C39' 'B18' 'D11' 'C93' 'B28' 'C49' 'B52 B54 B56' 'E60'\n",
      " 'C132' 'B37' 'D21' 'D19' 'C124' 'D17' 'B101' 'D28' 'D6' 'D9' 'B80' 'C106'\n",
      " 'B79' 'C47' 'D30' 'C90' 'E38' 'C78' 'C30' 'C118' 'D36' 'D48' 'D47' 'C105'\n",
      " 'B36' 'B30' 'D43' 'B24' 'C2' 'C65' 'B73' 'C104' 'C110' 'C50' 'B3' 'A24'\n",
      " 'A32' 'A11' 'A10' 'B57 B59 B63 B66' 'C28' 'E44' 'A26' 'A6' 'A7' 'C31'\n",
      " 'A19' 'B45' 'E34' 'B78' 'B50' 'C87' 'C116' 'C55 C57' 'D50' 'E68' 'E67'\n",
      " 'C126' 'C68' 'C70' 'C53' 'B19' 'D46' 'D37' 'D26' 'C32' 'C80' 'C82' 'C128'\n",
      " 'E39 E41' 'D' 'F4' 'D56' 'F33' 'E101' 'E77' 'F2' 'D38' 'F' 'F G63'\n",
      " 'F E57' 'F E46' 'F G73' 'E121' 'F E69' 'E10' 'G6' 'F38']\n",
      "\n",
      "********* Feature: Port *********\n",
      "\n",
      "['Southampton' 'Cherbourg' '?' 'Queenstown']\n",
      "\n",
      "********* Feature: Life Boat *********\n",
      "\n",
      "['2' '11' '?' '3' '10' 'D' '4' '9' '6' 'B' '8' 'A' '5' '7' 'C' '14' '5 9'\n",
      " '13' '1' '15' '5 7' '8 10' '12' '16' '13 15 B' 'C D' '15 16' '13 15']\n",
      "\n",
      "********* Feature: Survived *********\n",
      "\n",
      "['Yes' 'No']\n",
      "\n"
     ]
    }
   ],
   "source": [
    "for feat in cat_feats:\n",
    "    print(f\"********* Feature: {feat} *********\\n\")\n",
    "    print(f\"{df[feat].unique()}\\n\")"
   ]
  },
  {
   "cell_type": "markdown",
   "id": "34df0949",
   "metadata": {},
   "source": [
    "## Replace \"?\" with NAs"
   ]
  },
  {
   "cell_type": "code",
   "execution_count": 13,
   "id": "09e345d3",
   "metadata": {},
   "outputs": [
    {
     "data": {
      "text/html": [
       "<div>\n",
       "<style scoped>\n",
       "    .dataframe tbody tr th:only-of-type {\n",
       "        vertical-align: middle;\n",
       "    }\n",
       "\n",
       "    .dataframe tbody tr th {\n",
       "        vertical-align: top;\n",
       "    }\n",
       "\n",
       "    .dataframe thead th {\n",
       "        text-align: right;\n",
       "    }\n",
       "</style>\n",
       "<table border=\"1\" class=\"dataframe\">\n",
       "  <thead>\n",
       "    <tr style=\"text-align: right;\">\n",
       "      <th></th>\n",
       "      <th>Row Number</th>\n",
       "      <th>Class</th>\n",
       "      <th>Name</th>\n",
       "      <th>Gender</th>\n",
       "      <th>Age</th>\n",
       "      <th>No of Siblings</th>\n",
       "      <th>No of Parents</th>\n",
       "      <th>Ticket Number</th>\n",
       "      <th>Fare</th>\n",
       "      <th>Cabin</th>\n",
       "      <th>Port</th>\n",
       "      <th>Life Boat</th>\n",
       "      <th>Survived</th>\n",
       "    </tr>\n",
       "  </thead>\n",
       "  <tbody>\n",
       "    <tr>\n",
       "      <th>168</th>\n",
       "      <td>169</td>\n",
       "      <td>First</td>\n",
       "      <td>Icard, Miss. Amelie</td>\n",
       "      <td>Female</td>\n",
       "      <td>38.0</td>\n",
       "      <td>0</td>\n",
       "      <td>0</td>\n",
       "      <td>113572</td>\n",
       "      <td>80.0</td>\n",
       "      <td>B28</td>\n",
       "      <td>?</td>\n",
       "      <td>6</td>\n",
       "      <td>Yes</td>\n",
       "    </tr>\n",
       "    <tr>\n",
       "      <th>284</th>\n",
       "      <td>285</td>\n",
       "      <td>First</td>\n",
       "      <td>Stone, Mrs. George Nelson (Martha Evelyn)</td>\n",
       "      <td>Female</td>\n",
       "      <td>62.0</td>\n",
       "      <td>0</td>\n",
       "      <td>0</td>\n",
       "      <td>113572</td>\n",
       "      <td>80.0</td>\n",
       "      <td>B28</td>\n",
       "      <td>?</td>\n",
       "      <td>6</td>\n",
       "      <td>Yes</td>\n",
       "    </tr>\n",
       "  </tbody>\n",
       "</table>\n",
       "</div>"
      ],
      "text/plain": [
       "     Row Number  Class                                       Name  Gender  \\\n",
       "168         169  First                        Icard, Miss. Amelie  Female   \n",
       "284         285  First  Stone, Mrs. George Nelson (Martha Evelyn)  Female   \n",
       "\n",
       "      Age  No of Siblings  No of Parents Ticket Number  Fare Cabin Port  \\\n",
       "168  38.0               0              0        113572  80.0   B28    ?   \n",
       "284  62.0               0              0        113572  80.0   B28    ?   \n",
       "\n",
       "    Life Boat Survived  \n",
       "168         6      Yes  \n",
       "284         6      Yes  "
      ]
     },
     "execution_count": 13,
     "metadata": {},
     "output_type": "execute_result"
    }
   ],
   "source": [
    "df[df['Port'] == '?']"
   ]
  },
  {
   "cell_type": "code",
   "execution_count": 14,
   "id": "ad34092f",
   "metadata": {},
   "outputs": [],
   "source": [
    "df.replace('?', np.nan, inplace=True)"
   ]
  },
  {
   "cell_type": "markdown",
   "id": "194cb9ba",
   "metadata": {},
   "source": [
    "## Identify Missing Values"
   ]
  },
  {
   "cell_type": "code",
   "execution_count": 15,
   "id": "9f1ce0cc",
   "metadata": {},
   "outputs": [
    {
     "data": {
      "text/plain": [
       "Row Number          int64\n",
       "Class              object\n",
       "Name               object\n",
       "Gender             object\n",
       "Age               float64\n",
       "No of Siblings      int64\n",
       "No of Parents       int64\n",
       "Ticket Number      object\n",
       "Fare              float64\n",
       "Cabin              object\n",
       "Port               object\n",
       "Life Boat          object\n",
       "Survived           object\n",
       "dtype: object"
      ]
     },
     "execution_count": 15,
     "metadata": {},
     "output_type": "execute_result"
    }
   ],
   "source": [
    "df.dtypes"
   ]
  },
  {
   "cell_type": "code",
   "execution_count": 16,
   "id": "1d6a4f9a",
   "metadata": {},
   "outputs": [
    {
     "data": {
      "text/plain": [
       "Row Number           0\n",
       "Class                0\n",
       "Name                 0\n",
       "Gender               0\n",
       "Age                263\n",
       "No of Siblings       0\n",
       "No of Parents        0\n",
       "Ticket Number        0\n",
       "Fare                 1\n",
       "Cabin             1014\n",
       "Port                 2\n",
       "Life Boat          823\n",
       "Survived             0\n",
       "dtype: int64"
      ]
     },
     "execution_count": 16,
     "metadata": {},
     "output_type": "execute_result"
    }
   ],
   "source": [
    "df.isna().sum()"
   ]
  },
  {
   "cell_type": "code",
   "execution_count": 17,
   "id": "fb2b6ab9",
   "metadata": {},
   "outputs": [],
   "source": [
    "df = df[~((df['Fare'].isna()) | (df['Port'].isna()))]"
   ]
  },
  {
   "cell_type": "code",
   "execution_count": 18,
   "id": "11a6948f",
   "metadata": {},
   "outputs": [
    {
     "data": {
      "text/plain": [
       "Index(['Row Number', 'Class', 'Name', 'Gender', 'Age', 'No of Siblings',\n",
       "       'No of Parents', 'Ticket Number', 'Fare', 'Cabin', 'Port', 'Life Boat',\n",
       "       'Survived'],\n",
       "      dtype='object')"
      ]
     },
     "execution_count": 18,
     "metadata": {},
     "output_type": "execute_result"
    }
   ],
   "source": [
    "df.columns"
   ]
  },
  {
   "cell_type": "code",
   "execution_count": 19,
   "id": "417ac884",
   "metadata": {},
   "outputs": [],
   "source": [
    "df.drop(columns=['Cabin', 'Life Boat', 'Row Number'], inplace=True)"
   ]
  },
  {
   "cell_type": "code",
   "execution_count": 20,
   "id": "4ba631cc",
   "metadata": {},
   "outputs": [
    {
     "data": {
      "text/plain": [
       "Class               0\n",
       "Name                0\n",
       "Gender              0\n",
       "Age               263\n",
       "No of Siblings      0\n",
       "No of Parents       0\n",
       "Ticket Number       0\n",
       "Fare                0\n",
       "Port                0\n",
       "Survived            0\n",
       "dtype: int64"
      ]
     },
     "execution_count": 20,
     "metadata": {},
     "output_type": "execute_result"
    }
   ],
   "source": [
    "df.isna().sum()"
   ]
  },
  {
   "cell_type": "code",
   "execution_count": 21,
   "id": "868ee875",
   "metadata": {},
   "outputs": [
    {
     "data": {
      "text/html": [
       "<div>\n",
       "<style scoped>\n",
       "    .dataframe tbody tr th:only-of-type {\n",
       "        vertical-align: middle;\n",
       "    }\n",
       "\n",
       "    .dataframe tbody tr th {\n",
       "        vertical-align: top;\n",
       "    }\n",
       "\n",
       "    .dataframe thead th {\n",
       "        text-align: right;\n",
       "    }\n",
       "</style>\n",
       "<table border=\"1\" class=\"dataframe\">\n",
       "  <thead>\n",
       "    <tr style=\"text-align: right;\">\n",
       "      <th></th>\n",
       "      <th>Class</th>\n",
       "      <th>Name</th>\n",
       "      <th>Gender</th>\n",
       "      <th>Age</th>\n",
       "      <th>No of Siblings</th>\n",
       "      <th>No of Parents</th>\n",
       "      <th>Ticket Number</th>\n",
       "      <th>Fare</th>\n",
       "      <th>Port</th>\n",
       "      <th>Survived</th>\n",
       "    </tr>\n",
       "  </thead>\n",
       "  <tbody>\n",
       "    <tr>\n",
       "      <th>15</th>\n",
       "      <td>First</td>\n",
       "      <td>Baumann, Mr. John D</td>\n",
       "      <td>Male</td>\n",
       "      <td>NaN</td>\n",
       "      <td>0</td>\n",
       "      <td>0</td>\n",
       "      <td>PC 17318</td>\n",
       "      <td>25.9250</td>\n",
       "      <td>Southampton</td>\n",
       "      <td>No</td>\n",
       "    </tr>\n",
       "    <tr>\n",
       "      <th>37</th>\n",
       "      <td>First</td>\n",
       "      <td>Bradley, Mr. George (\"George Arthur Brayton\")</td>\n",
       "      <td>Male</td>\n",
       "      <td>NaN</td>\n",
       "      <td>0</td>\n",
       "      <td>0</td>\n",
       "      <td>111427</td>\n",
       "      <td>26.5500</td>\n",
       "      <td>Southampton</td>\n",
       "      <td>Yes</td>\n",
       "    </tr>\n",
       "    <tr>\n",
       "      <th>40</th>\n",
       "      <td>First</td>\n",
       "      <td>Brewe, Dr. Arthur Jackson</td>\n",
       "      <td>Male</td>\n",
       "      <td>NaN</td>\n",
       "      <td>0</td>\n",
       "      <td>0</td>\n",
       "      <td>112379</td>\n",
       "      <td>39.6000</td>\n",
       "      <td>Cherbourg</td>\n",
       "      <td>No</td>\n",
       "    </tr>\n",
       "    <tr>\n",
       "      <th>46</th>\n",
       "      <td>First</td>\n",
       "      <td>Cairns, Mr. Alexander</td>\n",
       "      <td>Male</td>\n",
       "      <td>NaN</td>\n",
       "      <td>0</td>\n",
       "      <td>0</td>\n",
       "      <td>113798</td>\n",
       "      <td>31.0000</td>\n",
       "      <td>Southampton</td>\n",
       "      <td>No</td>\n",
       "    </tr>\n",
       "    <tr>\n",
       "      <th>59</th>\n",
       "      <td>First</td>\n",
       "      <td>Cassebeer, Mrs. Henry Arthur Jr (Eleanor Genev...</td>\n",
       "      <td>Female</td>\n",
       "      <td>NaN</td>\n",
       "      <td>0</td>\n",
       "      <td>0</td>\n",
       "      <td>17770</td>\n",
       "      <td>27.7208</td>\n",
       "      <td>Cherbourg</td>\n",
       "      <td>Yes</td>\n",
       "    </tr>\n",
       "    <tr>\n",
       "      <th>...</th>\n",
       "      <td>...</td>\n",
       "      <td>...</td>\n",
       "      <td>...</td>\n",
       "      <td>...</td>\n",
       "      <td>...</td>\n",
       "      <td>...</td>\n",
       "      <td>...</td>\n",
       "      <td>...</td>\n",
       "      <td>...</td>\n",
       "      <td>...</td>\n",
       "    </tr>\n",
       "    <tr>\n",
       "      <th>1293</th>\n",
       "      <td>Third</td>\n",
       "      <td>Williams, Mr. Howard Hugh \"Harry\"</td>\n",
       "      <td>Male</td>\n",
       "      <td>NaN</td>\n",
       "      <td>0</td>\n",
       "      <td>0</td>\n",
       "      <td>A/5 2466</td>\n",
       "      <td>8.0500</td>\n",
       "      <td>Southampton</td>\n",
       "      <td>No</td>\n",
       "    </tr>\n",
       "    <tr>\n",
       "      <th>1297</th>\n",
       "      <td>Third</td>\n",
       "      <td>Wiseman, Mr. Phillippe</td>\n",
       "      <td>Male</td>\n",
       "      <td>NaN</td>\n",
       "      <td>0</td>\n",
       "      <td>0</td>\n",
       "      <td>A/4. 34244</td>\n",
       "      <td>7.2500</td>\n",
       "      <td>Southampton</td>\n",
       "      <td>No</td>\n",
       "    </tr>\n",
       "    <tr>\n",
       "      <th>1302</th>\n",
       "      <td>Third</td>\n",
       "      <td>Yousif, Mr. Wazli</td>\n",
       "      <td>Male</td>\n",
       "      <td>NaN</td>\n",
       "      <td>0</td>\n",
       "      <td>0</td>\n",
       "      <td>2647</td>\n",
       "      <td>7.2250</td>\n",
       "      <td>Cherbourg</td>\n",
       "      <td>No</td>\n",
       "    </tr>\n",
       "    <tr>\n",
       "      <th>1303</th>\n",
       "      <td>Third</td>\n",
       "      <td>Yousseff, Mr. Gerious</td>\n",
       "      <td>Male</td>\n",
       "      <td>NaN</td>\n",
       "      <td>0</td>\n",
       "      <td>0</td>\n",
       "      <td>2627</td>\n",
       "      <td>14.4583</td>\n",
       "      <td>Cherbourg</td>\n",
       "      <td>No</td>\n",
       "    </tr>\n",
       "    <tr>\n",
       "      <th>1305</th>\n",
       "      <td>Third</td>\n",
       "      <td>Zabour, Miss. Thamine</td>\n",
       "      <td>Female</td>\n",
       "      <td>NaN</td>\n",
       "      <td>1</td>\n",
       "      <td>0</td>\n",
       "      <td>2665</td>\n",
       "      <td>14.4542</td>\n",
       "      <td>Cherbourg</td>\n",
       "      <td>No</td>\n",
       "    </tr>\n",
       "  </tbody>\n",
       "</table>\n",
       "<p>263 rows × 10 columns</p>\n",
       "</div>"
      ],
      "text/plain": [
       "      Class                                               Name  Gender  Age  \\\n",
       "15    First                                Baumann, Mr. John D    Male  NaN   \n",
       "37    First      Bradley, Mr. George (\"George Arthur Brayton\")    Male  NaN   \n",
       "40    First                          Brewe, Dr. Arthur Jackson    Male  NaN   \n",
       "46    First                              Cairns, Mr. Alexander    Male  NaN   \n",
       "59    First  Cassebeer, Mrs. Henry Arthur Jr (Eleanor Genev...  Female  NaN   \n",
       "...     ...                                                ...     ...  ...   \n",
       "1293  Third                  Williams, Mr. Howard Hugh \"Harry\"    Male  NaN   \n",
       "1297  Third                             Wiseman, Mr. Phillippe    Male  NaN   \n",
       "1302  Third                                  Yousif, Mr. Wazli    Male  NaN   \n",
       "1303  Third                              Yousseff, Mr. Gerious    Male  NaN   \n",
       "1305  Third                              Zabour, Miss. Thamine  Female  NaN   \n",
       "\n",
       "      No of Siblings  No of Parents Ticket Number     Fare         Port  \\\n",
       "15                 0              0      PC 17318  25.9250  Southampton   \n",
       "37                 0              0        111427  26.5500  Southampton   \n",
       "40                 0              0        112379  39.6000    Cherbourg   \n",
       "46                 0              0        113798  31.0000  Southampton   \n",
       "59                 0              0         17770  27.7208    Cherbourg   \n",
       "...              ...            ...           ...      ...          ...   \n",
       "1293               0              0      A/5 2466   8.0500  Southampton   \n",
       "1297               0              0    A/4. 34244   7.2500  Southampton   \n",
       "1302               0              0          2647   7.2250    Cherbourg   \n",
       "1303               0              0          2627  14.4583    Cherbourg   \n",
       "1305               1              0          2665  14.4542    Cherbourg   \n",
       "\n",
       "     Survived  \n",
       "15         No  \n",
       "37        Yes  \n",
       "40         No  \n",
       "46         No  \n",
       "59        Yes  \n",
       "...       ...  \n",
       "1293       No  \n",
       "1297       No  \n",
       "1302       No  \n",
       "1303       No  \n",
       "1305       No  \n",
       "\n",
       "[263 rows x 10 columns]"
      ]
     },
     "execution_count": 21,
     "metadata": {},
     "output_type": "execute_result"
    }
   ],
   "source": [
    "df.loc[df['Age'].isna()]"
   ]
  },
  {
   "cell_type": "code",
   "execution_count": 22,
   "id": "716d1df6",
   "metadata": {},
   "outputs": [
    {
     "data": {
      "text/plain": [
       "Gender  Class \n",
       "Female  First     36.839695\n",
       "        Second    27.495146\n",
       "        Third     22.177632\n",
       "Male    First     41.026490\n",
       "        Second    30.810127\n",
       "        Third     25.841954\n",
       "Name: Age, dtype: float64"
      ]
     },
     "execution_count": 22,
     "metadata": {},
     "output_type": "execute_result"
    }
   ],
   "source": [
    "df.groupby(['Gender', 'Class'])['Age'].mean()"
   ]
  },
  {
   "cell_type": "markdown",
   "id": "576db4d3",
   "metadata": {},
   "source": [
    "## Impute Age using average age by gender, class, No of Siblings"
   ]
  },
  {
   "cell_type": "code",
   "execution_count": 23,
   "id": "649191a5",
   "metadata": {},
   "outputs": [],
   "source": [
    "df['Age'] = df.groupby(['Gender', 'Class'])['Age'].transform(lambda x: round(x.fillna(x.mean())))"
   ]
  },
  {
   "cell_type": "code",
   "execution_count": 24,
   "id": "7140d351",
   "metadata": {},
   "outputs": [
    {
     "data": {
      "text/plain": [
       "Class             0\n",
       "Name              0\n",
       "Gender            0\n",
       "Age               0\n",
       "No of Siblings    0\n",
       "No of Parents     0\n",
       "Ticket Number     0\n",
       "Fare              0\n",
       "Port              0\n",
       "Survived          0\n",
       "dtype: int64"
      ]
     },
     "execution_count": 24,
     "metadata": {},
     "output_type": "execute_result"
    }
   ],
   "source": [
    "df.isna().sum()"
   ]
  },
  {
   "cell_type": "markdown",
   "id": "b910b898",
   "metadata": {},
   "source": [
    "## Exploratory Data Analysis"
   ]
  },
  {
   "cell_type": "markdown",
   "id": "24fbe0da",
   "metadata": {},
   "source": [
    "**Start by exploring Survived**\n",
    "\n",
    "- **Class Imbalance:** We want to analyse the balance of classes. Imbalanced classes occur in classification problems when the number of observations of one class occurs significantly more than the other class(es). \n",
    "- **Chi Square Goodness of Fit:** Additionally, we would like to confirm that the differences between observed survival rates and expected survival rates are statistically significant and cannot be attributed to randomness."
   ]
  },
  {
   "cell_type": "markdown",
   "id": "b9799f9f",
   "metadata": {},
   "source": [
    "### Class Imbalance "
   ]
  },
  {
   "cell_type": "code",
   "execution_count": 25,
   "id": "c5b9affb",
   "metadata": {},
   "outputs": [
    {
     "data": {
      "image/png": "[encoded data removed]",
      "text/plain": [
       "<Figure size 640x480 with 1 Axes>"
      ]
     },
     "metadata": {},
     "output_type": "display_data"
    }
   ],
   "source": [
    "df['Survived'].value_counts().plot(kind='bar')\n",
    "\n",
    "plt.title(\"Distribution of Survival\", fontsize=24)\n",
    "plt.ylabel(\"Number of Passengers\")\n",
    "plt.show()"
   ]
  },
  {
   "cell_type": "code",
   "execution_count": 26,
   "id": "74f8fae8",
   "metadata": {},
   "outputs": [
    {
     "name": "stdout",
     "output_type": "stream",
     "text": [
      "Number of passengers who survived: 498\n",
      "Number of passengers who did not survive: 808\n"
     ]
    }
   ],
   "source": [
    "survived = df['Survived'].value_counts()\n",
    "survived_yes = survived.iloc[1]\n",
    "survived_no = survived.iloc[0]\n",
    "\n",
    "\n",
    "print(f'Number of passengers who survived: {survived_yes}')\n",
    "print(f'Number of passengers who did not survive: {survived_no}')"
   ]
  },
  {
   "cell_type": "code",
   "execution_count": 27,
   "id": "43d5df60",
   "metadata": {},
   "outputs": [
    {
     "data": {
      "text/plain": [
       "1.62"
      ]
     },
     "execution_count": 27,
     "metadata": {},
     "output_type": "execute_result"
    }
   ],
   "source": [
    "class_balance_ratio = round(float(survived_no/survived_yes),2)\n",
    "class_balance_ratio"
   ]
  },
  {
   "cell_type": "code",
   "execution_count": 28,
   "id": "147baa5f",
   "metadata": {},
   "outputs": [
    {
     "name": "stdout",
     "output_type": "stream",
     "text": [
      "Percent of Passengers who survived: 38.13%\n"
     ]
    }
   ],
   "source": [
    "print(f\"Percent of Passengers who survived: {round(len(df[df['Survived']=='Yes']) / len(df)* 100,2)}%\")"
   ]
  },
  {
   "cell_type": "markdown",
   "id": "5b3fd535",
   "metadata": {},
   "source": [
    "### Chi Square Goodness of Fit"
   ]
  },
  {
   "cell_type": "code",
   "execution_count": 29,
   "id": "19aa751b",
   "metadata": {},
   "outputs": [
    {
     "name": "stdout",
     "output_type": "stream",
     "text": [
      "Expected: [653.0, 653.0]\n",
      "Observed: [498.0, 808.0]\n"
     ]
    }
   ],
   "source": [
    "observed = [float(survived_yes), float(survived_no)]\n",
    "expected = [float(df['Survived'].count()/2), float(df['Survived'].count()/2)]\n",
    "print(f\"Expected: {expected}\\nObserved: {observed}\")"
   ]
  },
  {
   "cell_type": "code",
   "execution_count": 30,
   "id": "b873de21",
   "metadata": {},
   "outputs": [],
   "source": [
    "from scipy.stats import chisquare\n",
    "chi2, p_value = chisquare(f_obs=observed, f_exp=expected)"
   ]
  },
  {
   "cell_type": "code",
   "execution_count": 31,
   "id": "cd63fb2a",
   "metadata": {},
   "outputs": [
    {
     "name": "stdout",
     "output_type": "stream",
     "text": [
      "Chi squared: 73.58346094946401\n",
      "\n",
      "P value: 9.64696289566531e-18\n"
     ]
    }
   ],
   "source": [
    "print(f\"Chi squared: {chi2}\\n\")\n",
    "print(f\"P value: {p_value}\")"
   ]
  },
  {
   "cell_type": "markdown",
   "id": "87558330",
   "metadata": {},
   "source": [
    "### **Chi Square Summary**\n",
    "\n",
    "The Chi Square Goodness was conducted and compared to the expected survival accounts under an assumption of a 50% probability of survival. \n",
    "\n",
    "**Results:**\n",
    "\n",
    "The results showed a statistically significant difference, with a chi sqaure statistic of 73.58 and a p value < 0.0001, and 1 degree of freedom."
   ]
  },
  {
   "cell_type": "markdown",
   "id": "0dc39ac0",
   "metadata": {},
   "source": [
    "## Univariate Analysis"
   ]
  },
  {
   "cell_type": "markdown",
   "id": "1fb29acc",
   "metadata": {},
   "source": [
    "### **Age:**\n",
    "- Central Tendency\n",
    "- Measure of Spread\n",
    "- Shape\n",
    "- Outlier Detection\n",
    "- Recommendations"
   ]
  },
  {
   "cell_type": "code",
   "execution_count": 32,
   "id": "92b8a082",
   "metadata": {},
   "outputs": [
    {
     "data": {
      "text/plain": [
       "count    1306.000000\n",
       "mean       29.307810\n",
       "std        13.125106\n",
       "min         0.000000\n",
       "25%        22.000000\n",
       "50%        26.000000\n",
       "75%        36.000000\n",
       "max        80.000000\n",
       "Name: Age, dtype: float64"
      ]
     },
     "execution_count": 32,
     "metadata": {},
     "output_type": "execute_result"
    }
   ],
   "source": [
    "df['Age'].describe()"
   ]
  },
  {
   "cell_type": "code",
   "execution_count": 33,
   "id": "e1256a9c",
   "metadata": {},
   "outputs": [
    {
     "name": "stdout",
     "output_type": "stream",
     "text": [
      "Mean: 29.31\n",
      "Median: 26.0\n",
      "Mode: 26.0\n",
      "Skewness: 0.54\n",
      "Kurtosis: 0.71\n"
     ]
    }
   ],
   "source": [
    "age_mean = round(float(df['Age'].mean()),2)\n",
    "age_mode = float(df['Age'].mode().iloc[0])\n",
    "age_median = float(df['Age'].median())\n",
    "age_skew = df['Age'].skew()\n",
    "age_kurt = df['Age'].kurt()\n",
    "\n",
    "print(f\"Mean: {age_mean}\")\n",
    "print(f\"Median: {age_median}\")\n",
    "print(f\"Mode: {age_mode}\")\n",
    "print(F\"Skewness: {round(float(age_skew),2)}\")\n",
    "print(F\"Kurtosis: {round(float(age_kurt),2)}\")"
   ]
  },
  {
   "cell_type": "code",
   "execution_count": 34,
   "id": "cc297772",
   "metadata": {},
   "outputs": [
    {
     "data": {
      "text/plain": [
       "np.int64(0)"
      ]
     },
     "execution_count": 34,
     "metadata": {},
     "output_type": "execute_result"
    }
   ],
   "source": [
    "df['Age'].isna().sum()"
   ]
  },
  {
   "cell_type": "code",
   "execution_count": 35,
   "metadata": {},
   "outputs": [
    {
     "data": {
      "image/png": "[encoded data removed]",
      "text/plain": [
       "<Figure size 2000x600 with 1 Axes>"
      ]
     },
     "metadata": {},
     "output_type": "display_data"
    }
   ],
   "source": [
    "from scipy.stats import gaussian_kde\n",
    "\n",
    "fig, ax = plt.subplots(figsize=(20,6))\n",
    "ax.hist(x=df[\"Age\"], bins=30, edgecolor='black', color='skyblue', density=True, label='Age Histogram')\n",
    "\n",
    "kde = gaussian_kde(df['Age'])\n",
    "x_vals = np.linspace(min(df['Age']), max(df['Age']), 1000)\n",
    "y_vals = kde(x_vals)\n",
    "ax.plot(x_vals, y_vals, color = 'red', linestyle = '--', label='KDE')\n",
    "\n",
    "ax.axvline(age_mean, color='green', linestyle='-', label='Mean')\n",
    "ax.axvline(age_median, color = 'orange', linestyle='--', label='Median')\n",
    "ax.axvline(age_mode, color='purple', linestyle=':', label='Mode')\n",
    "\n",
    "y_height = ax.get_ylim()[1] * .95\n",
    "ax.text(age_mean, y_height, f'  Mean: {age_mean}', color = 'green', ha='left')\n",
    "ax.text(age_median, y_height * .85, f'Median {age_median}   ', color='orange', ha='right')\n",
    "ax.text(age_mode, y_height * .75, f'Mode {age_mode}   ', color='purple', ha='right')\n",
    "\n",
    "plt.title(\"Distribution of Passenger Age\")\n",
    "plt.xlabel(\"Age\")\n",
    "plt.ylabel(\"Density\")\n",
    "\n",
    "plt.legend()\n",
    "plt.show()"
   ]
  },
  {
   "cell_type": "markdown",
   "id": "5d80ffaa",
   "metadata": {},
   "source": []
  },
  {
   "cell_type": "markdown",
   "id": "d6cfefff",
   "metadata": {},
   "source": [
    "**Fare:**\n",
    "\n",
    "- Measures of central tendency\n",
    "- Measures of Dispersion\n",
    "- Analysis of Shape\n",
    "- Analysis of Outliers"
   ]
  },
  {
   "cell_type": "code",
   "execution_count": 36,
   "id": "14e8f982",
   "metadata": {},
   "outputs": [
    {
     "data": {
      "text/plain": [
       "count    1306.000000\n",
       "mean       33.223956\n",
       "std        51.765986\n",
       "min         0.000000\n",
       "25%         7.895800\n",
       "50%        14.454200\n",
       "75%        31.275000\n",
       "max       512.329200\n",
       "Name: Fare, dtype: float64"
      ]
     },
     "execution_count": 36,
     "metadata": {},
     "output_type": "execute_result"
    }
   ],
   "source": [
    "df['Fare'].describe()"
   ]
  },
  {
   "cell_type": "code",
   "execution_count": 37,
   "id": "768b2258",
   "metadata": {},
   "outputs": [
    {
     "name": "stdout",
     "output_type": "stream",
     "text": [
      "Mean: 33.22\n",
      "Median: 14.45\n",
      "Mode: 8.05\n",
      "Skewness: 4.38\n",
      "Kurtosis: 27.08\n"
     ]
    }
   ],
   "source": [
    "fare_mean = round(df['Fare'].mean(),2)\n",
    "fare_median = round(df['Fare'].median(),2)\n",
    "fare_mode = round(df['Fare'].mode()[0],2)\n",
    "fare_skew = round(df['Fare'].skew(),2)\n",
    "fare_kurt = round(df['Fare'].kurt(),2)\n",
    "\n",
    "print(f\"Mean: {fare_mean}\")\n",
    "print(f\"Median: {fare_median}\")\n",
    "print(f\"Mode: {fare_mode}\")\n",
    "print(f\"Skewness: {fare_skew}\")\n",
    "print(f\"Kurtosis: {fare_kurt}\")"
   ]
  },
  {
   "cell_type": "code",
   "execution_count": 38,
   "id": "37e28225",
   "metadata": {},
   "outputs": [
    {
     "data": {
      "text/plain": [
       "np.int64(0)"
      ]
     },
     "execution_count": 38,
     "metadata": {},
     "output_type": "execute_result"
    }
   ],
   "source": [
    "df['Fare'].isna().sum()"
   ]
  },
  {
   "cell_type": "code",
   "execution_count": 39,
   "id": "551b18d2",
   "metadata": {},
   "outputs": [
    {
     "data": {
      "image/png": "[encoded data removed]",
      "text/plain": [
       "<Figure size 2000x600 with 1 Axes>"
      ]
     },
     "metadata": {},
     "output_type": "display_data"
    }
   ],
   "source": [
    "fig, ax = plt.subplots(figsize=(20,6))\n",
    "\n",
    "ax.hist(x=df['Fare'], bins=100, edgecolor='black', color='skyblue', density=True, label='Fare Histogram')\n",
    "\n",
    "kde = gaussian_kde(df['Fare'])\n",
    "x_vals = np.linspace(min(df['Fare']), max(df['Fare']), 1000)\n",
    "ax.plot(x_vals, kde(x_vals), color='red', linestyle='--', label='KDE')\n",
    "\n",
    "y_height = ax.get_ylim()[1] * .95\n",
    "ax.axvline(fare_mean, color='green', linestyle='--', label='Mean')\n",
    "ax.text(fare_mean, y_height, f'  Mean {fare_mean}', color='green', ha='left')\n",
    "\n",
    "ax.axvline(fare_median, color='orange', linestyle='-', label='median')\n",
    "ax.text(fare_median, y_height * .85, f'  Median {fare_median}', color='orange', ha='left')\n",
    "\n",
    "ax.axvline(fare_mode, color='purple', linestyle=':', label='Mode')\n",
    "ax.text(fare_mode, y_height * .75, f'  Mode {fare_mode}', color='Purple', ha='left')\n",
    "\n",
    "plt.title('Distribution of Passenger Fares')\n",
    "plt.xlabel('Fare')\n",
    "plt.ylabel('Density')\n",
    "\n",
    "plt.legend()\n",
    "plt.show()"
   ]
  },
  {
   "cell_type": "code",
   "execution_count": 40,
   "id": "41ba505e",
   "metadata": {},
   "outputs": [
    {
     "data": {
      "text/plain": [
       "count    1306.00000\n",
       "mean        0.50000\n",
       "std         1.04258\n",
       "min         0.00000\n",
       "25%         0.00000\n",
       "50%         0.00000\n",
       "75%         1.00000\n",
       "max         8.00000\n",
       "Name: No of Siblings, dtype: float64"
      ]
     },
     "execution_count": 40,
     "metadata": {},
     "output_type": "execute_result"
    }
   ],
   "source": [
    "df['No of Siblings'].describe()"
   ]
  },
  {
   "cell_type": "code",
   "execution_count": 41,
   "id": "85d5614b",
   "metadata": {},
   "outputs": [
    {
     "name": "stdout",
     "output_type": "stream",
     "text": [
      "Sibling Mean: 0.5\n",
      "Sibling Median: 0.0\n",
      "Sibling Mode: 0\n",
      "Sibling Skewness: 3.8398113683848054\n",
      "Sibling Kurtosis: 19.997818644918578\n"
     ]
    }
   ],
   "source": [
    "sib_mean = df['No of Siblings'].mean()\n",
    "sib_median = df['No of Siblings'].median()\n",
    "sib_mode = df['No of Siblings'].mode().iloc[0]\n",
    "sib_skew = df['No of Siblings'].skew()\n",
    "sib_kurt = df['No of Siblings'].kurt()\n",
    "\n",
    "print(f\"Sibling Mean: {sib_mean}\")\n",
    "print(f\"Sibling Median: {sib_median}\")\n",
    "print(f\"Sibling Mode: {sib_mode}\")\n",
    "print(f\"Sibling Skewness: {sib_skew}\")\n",
    "print(f\"Sibling Kurtosis: {sib_kurt}\")"
   ]
  },
  {
   "cell_type": "code",
   "execution_count": 42,
   "id": "27c2e746",
   "metadata": {},
   "outputs": [
    {
     "data": {
      "image/png": "[encoded data removed]",
      "text/plain": [
       "<Figure size 1800x800 with 1 Axes>"
      ]
     },
     "metadata": {},
     "output_type": "display_data"
    }
   ],
   "source": [
    "fig, ax = plt.subplots(figsize=(18,8))\n",
    "\n",
    "# Draw the histogram with 30 bins\n",
    "ax.hist(x=df['No of Siblings'], bins = 8, color='lightblue', edgecolor='black', label='Histogram')\n",
    "\n",
    "# Overlay the gaussian KDE\n",
    "kde = gaussian_kde(df['No of Siblings'])\n",
    "x_vals = np.linspace(min(df['No of Siblings']), max(df['No of Siblings']), 1000)\n",
    "y_vals = kde(x_vals)\n",
    "ax.plot(x_vals, y_vals, color = 'red', linestyle = '--', label='KDE')\n",
    "\n",
    "y_height = ax.get_ylim()[1] * .95\n",
    "\n",
    "# Overlay the mean, median and mode values\n",
    "ax.axvline(sib_mean, color = 'green', linestyle='-', label = 'Mean')\n",
    "ax.text(sib_mean, y_height, f'  Mean {sib_mean}', color = 'green', ha='left')\n",
    "ax.axvline(sib_median, color='orange', linestyle='--', label='Median')\n",
    "ax.text(sib_median, y_height * .85, f'Median {sib_median} ', color='orange', ha='right')\n",
    "ax.axvline(sib_mode, color='purple', linestyle=':', label='Mode')\n",
    "ax.text(sib_mode, y_height * .75, f'Mode {sib_mode} ', color = 'purple', ha='right')\n",
    "\n",
    "# add in titles, axis labels, and a legend before displaying\n",
    "ax.legend()\n",
    "plt.show()"
   ]
  },
  {
   "cell_type": "markdown",
   "id": "261a44f5",
   "metadata": {},
   "source": [
    "### No Parents"
   ]
  },
  {
   "cell_type": "code",
   "execution_count": 43,
   "id": "8925d5c5",
   "metadata": {},
   "outputs": [
    {
     "data": {
      "text/plain": [
       "count    1306.000000\n",
       "mean        0.385911\n",
       "std         0.866357\n",
       "min         0.000000\n",
       "25%         0.000000\n",
       "50%         0.000000\n",
       "75%         0.000000\n",
       "max         9.000000\n",
       "Name: No of Parents, dtype: float64"
      ]
     },
     "execution_count": 43,
     "metadata": {},
     "output_type": "execute_result"
    }
   ],
   "source": [
    "df['No of Parents'].describe()"
   ]
  },
  {
   "cell_type": "code",
   "execution_count": 44,
   "id": "92900a20",
   "metadata": {},
   "outputs": [
    {
     "name": "stdout",
     "output_type": "stream",
     "text": [
      "Num Parents Mean: 0.39\n",
      "Num Parents Median: 0.0\n",
      "Num Parents Mode: 0\n",
      "Num Parents Skewness: 3.664517835664579\n",
      "Num Parents Kurtosis: 21.492209239018553\n"
     ]
    }
   ],
   "source": [
    "par_mean = round(df['No of Parents'].mean(),2)\n",
    "par_median = round(df['No of Parents'].median(),2)\n",
    "par_mode = round(df['No of Parents'].mode()[0],2)\n",
    "par_skew = df['No of Parents'].skew()\n",
    "par_kurt = df['No of Parents'].kurt()\n",
    "\n",
    "print(f'Num Parents Mean: {par_mean}')\n",
    "print(f'Num Parents Median: {par_median}')\n",
    "print(f'Num Parents Mode: {par_mode}')\n",
    "print(f'Num Parents Skewness: {par_skew}')\n",
    "print(f'Num Parents Kurtosis: {par_kurt}')"
   ]
  },
  {
   "cell_type": "code",
   "execution_count": 45,
   "id": "0c7a817c",
   "metadata": {},
   "outputs": [
    {
     "data": {
      "image/png": "[encoded data removed]",
      "text/plain": [
       "<Figure size 1800x800 with 1 Axes>"
      ]
     },
     "metadata": {},
     "output_type": "display_data"
    }
   ],
   "source": [
    "fig, ax = plt.subplots(figsize = (18,8))\n",
    "\n",
    "# Create Historgram for Number of Parents\n",
    "ax.hist(df['No of Parents'], bins = 9, color = 'lightblue', edgecolor = 'black', label = 'histogram')\n",
    "\n",
    "# Overlay a Gaussian KDE\n",
    "kde = gaussian_kde(df['No of Parents'])\n",
    "x_vals = np.linspace(min(df['No of Parents']), max(df['No of Parents']), 1000)\n",
    "y_vals = kde(x_vals)\n",
    "ax.plot(x_vals, y_vals, color = 'red', linestyle = '--', label='KDE')\n",
    "\n",
    "y_height = ax.get_ylim()[1] * .85 # used in y values for placing text below\n",
    "\n",
    "# Overlay Mean, Median, Mode vertical bars and labels\n",
    "ax.axvline(par_mean, color = 'green', linestyle='--', label='Mean')\n",
    "ax.text(par_mean, y_height, f'  Mean: {par_mean}', color = 'green', ha='left')\n",
    "\n",
    "ax.axvline(par_median, color = 'orange', linestyle='-', label='Median')\n",
    "ax.text(par_median, y_height * .85, f'Median {par_median} ', color = 'orange', ha='right')\n",
    "\n",
    "ax.axvline(par_mode, color = 'purple', linestyle = ':', label='Mode')\n",
    "ax.text(par_mode, y_height * .75, f'Mode {par_mode} ', color = 'purple', ha='right')\n",
    "\n",
    "plt.show()"
   ]
  },
  {
   "cell_type": "code",
   "execution_count": 46,
   "id": "b0607fc7",
   "metadata": {},
   "outputs": [
    {
     "data": {
      "text/plain": [
       "Index(['Class', 'Name', 'Gender', 'Age', 'No of Siblings', 'No of Parents',\n",
       "       'Ticket Number', 'Fare', 'Port', 'Survived'],\n",
       "      dtype='object')"
      ]
     },
     "execution_count": 46,
     "metadata": {},
     "output_type": "execute_result"
    }
   ],
   "source": [
    "df.columns"
   ]
  },
  {
   "cell_type": "code",
   "execution_count": 47,
   "id": "bf17ddd1",
   "metadata": {},
   "outputs": [
    {
     "data": {
      "image/png": "[encoded data removed]",
      "text/plain": [
       "<Figure size 1600x600 with 1 Axes>"
      ]
     },
     "metadata": {},
     "output_type": "display_data"
    }
   ],
   "source": [
    "fig, ax = plt.subplots(figsize=(16,6))\n",
    "counts = df['Class'].value_counts()\n",
    "custom_order = ['Third', 'Second', 'First']\n",
    "ordered_counts = counts.reindex(custom_order)\n",
    "\n",
    "colors = ['skyblue', 'salmon', 'lightgreen']\n",
    "\n",
    "bars = ax.bar(x=ordered_counts.index.to_list(), height=ordered_counts.values, zorder=2)\n",
    "ax.grid(color='lightgrey', zorder=1)\n",
    "for i,bar in enumerate(bars):\n",
    "    bar.set_color(colors[i])\n",
    "    x_pos = bar.get_x() + (bar.get_width() / 2)\n",
    "    y_pos = bar.get_height() / 2\n",
    "    ax.text(x_pos, y_pos, f'{ordered_counts.iloc[i]}', color='black', fontsize=16, ha='center')\n",
    "\n",
    "\n",
    "plt.title('Class Distribution', fontsize=24)\n",
    "plt.xlabel('Class', fontsize=20)\n",
    "plt.ylabel('Count', fontsize=20)\n",
    "\n",
    "plt.show()"
   ]
  },
  {
   "cell_type": "code",
   "execution_count": 48,
   "id": "3cc4489d",
   "metadata": {},
   "outputs": [
    {
     "name": "stdout",
     "output_type": "stream",
     "text": [
      "Third Class Proportion: 54.21%\n",
      "Second Class Proportion: 21.21%\n",
      "First Class Proportion: 24.58%\n"
     ]
    }
   ],
   "source": [
    "proportions = [round(x / len(df),4)*100 for x in ordered_counts.values]\n",
    "for i, proportion in enumerate(proportions):\n",
    "    print(f'{custom_order[i]} Class Proportion: {proportion}%')"
   ]
  },
  {
   "cell_type": "markdown",
   "id": "01ed06f5",
   "metadata": {},
   "source": [
    "### Gender"
   ]
  },
  {
   "cell_type": "code",
   "execution_count": 49,
   "id": "83b26bb7",
   "metadata": {},
   "outputs": [
    {
     "data": {
      "image/png": "[encoded data removed]",
      "text/plain": [
       "<Figure size 800x600 with 1 Axes>"
      ]
     },
     "metadata": {},
     "output_type": "display_data"
    }
   ],
   "source": [
    "fig, ax = plt.subplots(figsize = (8,6))\n",
    "ax.grid(color='lightgrey',axis='y',zorder=1)\n",
    "# get value counts\n",
    "gender_counts = df['Gender'].value_counts()\n",
    "\n",
    "bars = ax.bar(x=gender_counts.index.to_list(), height = gender_counts.values,zorder=2)\n",
    "for i,bar in enumerate(bars):\n",
    "    bar.set_color(colors[i])\n",
    "    x_pos = bar.get_x() + (bar.get_width()/2)\n",
    "    y_pos = bar.get_height()/2\n",
    "    ax.text(x_pos,y_pos,f'{gender_counts.values[i]}',fontsize=16,ha='center',va='center')\n",
    "\n",
    "plt.title('Gender Distribution', fontsize=18)\n",
    "plt.xlabel('Gender', fontsize=14)\n",
    "plt.ylabel('Count', fontsize=14)\n",
    "plt.show()"
   ]
  },
  {
   "cell_type": "code",
   "execution_count": 50,
   "id": "2e9caa10",
   "metadata": {},
   "outputs": [
    {
     "name": "stdout",
     "output_type": "stream",
     "text": [
      "Male : 64.47%\n",
      "Female : 35.53%\n"
     ]
    }
   ],
   "source": [
    "gender_proportions = [round(x/len(df),4)*100 for x in gender_counts.values]\n",
    "for i,gender_proportion in enumerate(gender_proportions):\n",
    "    print(f'{gender_counts.index.to_list()[i]} : {gender_proportion}%')"
   ]
  },
  {
   "cell_type": "markdown",
   "id": "aa5cbe4c",
   "metadata": {},
   "source": [
    "### Port"
   ]
  },
  {
   "cell_type": "code",
   "execution_count": 51,
   "id": "ff76f3da",
   "metadata": {},
   "outputs": [
    {
     "data": {
      "image/png": "[encoded data removed]",
      "text/plain": [
       "<Figure size 800x600 with 1 Axes>"
      ]
     },
     "metadata": {},
     "output_type": "display_data"
    }
   ],
   "source": [
    "fig, ax = plt.subplots(figsize=(8,6))\n",
    "ax.grid(color='lightgrey', axis='y', zorder=1)\n",
    "\n",
    "port_counts = df['Port'].value_counts()\n",
    "\n",
    "bars = ax.bar(x=port_counts.index.tolist(), height=port_counts.values, zorder=2)\n",
    "for i,bar in enumerate(bars):\n",
    "    bar.set_color(colors[i])\n",
    "    x_pos = bar.get_x() + (bar.get_width()/2)\n",
    "    y_pos = bar.get_height()/2\n",
    "    ax.text(x_pos, y_pos, f'{port_counts.values[i]}',ha='center',va='center')\n",
    "\n",
    "\n",
    "plt.title('Port Passenger Count Distribution', fontsize = 16)\n",
    "plt.xlabel('Port', fontsize=12)\n",
    "plt.ylabel('Count', fontsize=12)\n",
    "plt.show()"
   ]
  },
  {
   "cell_type": "code",
   "execution_count": 52,
   "id": "98b69e82",
   "metadata": {},
   "outputs": [
    {
     "name": "stdout",
     "output_type": "stream",
     "text": [
      "Southampton: 69.91%\n",
      "Cherbourg: 20.67%\n",
      "Queenstown: 9.42%\n"
     ]
    }
   ],
   "source": [
    "port_proportions = [round((x/len(df))*100,2) for x in port_counts.values]\n",
    "for i,proportion in enumerate(port_proportions):\n",
    "    print(f'{port_counts.index.to_list()[i]}: {proportion}%')"
   ]
  },
  {
   "cell_type": "markdown",
   "id": "52281b08",
   "metadata": {},
   "source": [
    "## Feature Engineering"
   ]
  },
  {
   "cell_type": "markdown",
   "id": "033bd1b5",
   "metadata": {},
   "source": [
    "### Family Size"
   ]
  },
  {
   "cell_type": "code",
   "execution_count": 53,
   "id": "f055ce08",
   "metadata": {},
   "outputs": [],
   "source": [
    "# Family size is the sum of siblings and parents\n",
    "df['Family Size'] = df['No of Parents'] + df['No of Siblings']"
   ]
  },
  {
   "cell_type": "markdown",
   "id": "8145f73b",
   "metadata": {},
   "source": [
    "### Age Group"
   ]
  },
  {
   "cell_type": "code",
   "execution_count": 75,
   "id": "39450e94",
   "metadata": {},
   "outputs": [],
   "source": [
    "age_bins = [0,12,19,60,100]\n",
    "age_labels = ['Child', 'Teenager', 'Adult', 'Senior']\n",
    "df['Age Group'] = pd.cut(x=df['Age'], bins=age_bins, labels=age_labels, right=False)"
   ]
  },
  {
   "cell_type": "code",
   "execution_count": 57,
   "id": "924125db",
   "metadata": {},
   "outputs": [
    {
     "name": "stdout",
     "output_type": "stream",
     "text": [
      "Mean: 0.89\n",
      "Median: 0.0\n",
      "Mode: 0\n",
      "Skewness: 2.849428903587813\n",
      "Kurtosis: 10.272969769542241\n"
     ]
    }
   ],
   "source": [
    "fam_mean = round(df['Family Size'].mean(),2)\n",
    "fam_median = df['Family Size'].median()\n",
    "fam_mode = df['Family Size'].mode().iloc[0]\n",
    "fam_skew = df['Family Size'].skew()\n",
    "fam_kurt = df['Family Size'].kurt()\n",
    "\n",
    "print(f'Mean: {fam_mean}')\n",
    "print(f'Median: {fam_median}')\n",
    "print(f'Mode: {fam_mode}')\n",
    "print(f'Skewness: {fam_skew}')\n",
    "print(f'Kurtosis: {fam_kurt}')"
   ]
  },
  {
   "cell_type": "code",
   "execution_count": 68,
   "id": "351a853f",
   "metadata": {},
   "outputs": [
    {
     "data": {
      "image/png": "[encoded data removed]",
      "text/plain": [
       "<Figure size 1600x600 with 1 Axes>"
      ]
     },
     "metadata": {},
     "output_type": "display_data"
    }
   ],
   "source": [
    "fig, ax = plt.subplots(figsize = (16,6))\n",
    "ax.grid(color = 'lightgrey', axis='y', zorder=1)\n",
    "\n",
    "plt.hist(df['Family Size'], bins=10, color='lightblue', edgecolor='black', label='Histogram', zorder=2)\n",
    "\n",
    "kde = gaussian_kde(df['Family Size'])\n",
    "x_vals = np.linspace(min(df['Family Size']), max(df['Family Size']), 1000)\n",
    "y_vals = kde(x_vals)\n",
    "ax.plot(x_vals, y_vals, color='orange', label='KDE')\n",
    "\n",
    "y_height = ax.get_ylim()[1] * .95\n",
    "\n",
    "ax.axvline(fam_mean, color='green', linestyle='--', label='Mean')\n",
    "ax.axvline(fam_median, color='red', linestyle='-', label='Median')\n",
    "ax.axvline(fam_mode, color='purple', linestyle=':', label='Mode')\n",
    "\n",
    "ax.text(fam_mean + 0.2, y_height * .95, f'Mean: {fam_mean}', color='green', ha='left')\n",
    "ax.text(fam_median + 0.1, y_height * .85, f'Median: {fam_median} ', color='red', ha='left')\n",
    "ax.text(fam_mode + 0.1, y_height * .75, f'Mode: {fam_mode} ', color='purple', ha='left')\n",
    "\n",
    "plt.legend()\n",
    "plt.show()"
   ]
  },
  {
   "cell_type": "code",
   "execution_count": 102,
   "id": "d34f3ec6",
   "metadata": {},
   "outputs": [
    {
     "data": {
      "image/png": "[encoded data removed]",
      "text/plain": [
       "<Figure size 800x600 with 1 Axes>"
      ]
     },
     "metadata": {},
     "output_type": "display_data"
    }
   ],
   "source": [
    "fig, ax = plt.subplots(figsize=(8,6))\n",
    "ax.grid(color='lightgrey', axis='y', zorder=1)\n",
    "\n",
    "age_group_values = df['Age Group'].value_counts()\n",
    "colors = [\"#E6BE1C\", 'lightblue', \"#9191E0\", 'lightgrey']\n",
    "\n",
    "bars = plt.bar(x=age_group_values.index.to_list(), height=age_group_values.values, color='lightblue', zorder=2)\n",
    "\n",
    "proportions = [round(x/len(df),2) for x in age_group_values.values]\n",
    "\n",
    "for i,bar in enumerate(bars):\n",
    "    bar.set_color(colors[i])\n",
    "    y_val = bar.get_height() / 2\n",
    "    x_val = (bar.get_width() / 2) + bar.get_x()\n",
    "    if y_val < 50:\n",
    "        ax.text(x_val,140,f'{bar.get_height()}\\n({proportions[i]}%)', ha='center', va='center')\n",
    "    else:\n",
    "        ax.text(x_val,y_val,f'{bar.get_height()}\\n({proportions[i]}%)', ha='center', va='center')"
   ]
  }
 ],
 "metadata": {
  "kernelspec": {
   "display_name": "Python 3",
   "language": "python",
   "name": "python3"
  },
  "language_info": {
   "codemirror_mode": {
    "name": "ipython",
    "version": 3
   },
   "file_extension": ".py",
   "mimetype": "text/x-python",
   "name": "python",
   "nbconvert_exporter": "python",
   "pygments_lexer": "ipython3",
   "version": "3.12.11"
  }
 },
 "nbformat": 4,
 "nbformat_minor": 5
}
